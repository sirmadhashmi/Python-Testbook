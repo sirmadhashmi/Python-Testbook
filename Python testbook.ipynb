{
 "cells": [
  {
   "cell_type": "code",
   "execution_count": 5,
   "metadata": {},
   "outputs": [
    {
     "name": "stdout",
     "output_type": "stream",
     "text": [
      "Hello\n",
      "Hello\n",
      "Hello\n",
      "l\n",
      "Hel\n",
      "hello\n",
      "hello\n",
      "hello\n",
      "C:\\somewhere\n",
      "c:\\\\somewhere\n"
     ]
    }
   ],
   "source": [
    "## print functions\n",
    "print(\"Hello\")\n",
    "print('Hello')\n",
    "print(\"\"\"Hello\"\"\")\n",
    "\n",
    "##print function call the value with address\n",
    "print('Hello'[2])\n",
    "print('Hello'[0:3])\n",
    " \n",
    "##print function on separate lines\n",
    "print(\"hello\\nhello\\nhello\")\n",
    "\n",
    "##print cd \n",
    "print('C:\\\\somewhere')\n",
    "print(r'c:\\\\somewhere')"
   ]
  },
  {
   "cell_type": "code",
   "execution_count": 13,
   "metadata": {},
   "outputs": [
    {
     "name": "stdout",
     "output_type": "stream",
     "text": [
      "Helloworld everyone\n",
      "<class 'int'> <class 'str'> <class 'float'> <class 'list'> <class 'dict'>\n",
      "3\n",
      "2\n",
      "Helloworld Helloworld everyone\n",
      "Helloworld Helloworld\n"
     ]
    }
   ],
   "source": [
    "## variable and Datatypes\n",
    "greeting = 'Helloworld'\n",
    "## it is now over written \n",
    "greeting = 'Helloworld everyone'\n",
    "print(greeting)\n",
    "\n",
    "myInt = 25\n",
    "mtStr ='Helloworld'\n",
    "myFloat = 2.5\n",
    "myList = [1,2,3,4,'Helloworld']\n",
    "myDict = {'a': 1 , 'b': 2 , 'c': 3}\n",
    "\n",
    "\n",
    "print(type(myInt),type(mtStr),type(myFloat),type(myList),type(myDict))\n",
    "\n",
    "print(myList[2])\n",
    "print(myDict['b'])\n",
    "\n",
    "##concatination\n",
    "greeting1 = mtStr + \" \" + greeting;\n",
    "print(greeting1)\n",
    "\n",
    "print(mtStr , 'Helloworld')"
   ]
  },
  {
   "cell_type": "code",
   "execution_count": 42,
   "metadata": {},
   "outputs": [
    {
     "name": "stdout",
     "output_type": "stream",
     "text": [
      "x is greater than 10\n",
      "x is less than 20 and y is greater than 10\n",
      "helloworld\n"
     ]
    }
   ],
   "source": [
    "##conditional opp\n",
    "x = 12\n",
    "y = 12\n",
    "if x<10:\n",
    "    print('x is less than 10')\n",
    "elif x<15:\n",
    "    print('x is greater than 10')\n",
    "else:\n",
    "    print('helloworld')\n",
    "\n",
    "##nested if \n",
    "x = 21\n",
    "y = 8\n",
    "if x > 20:\n",
    "    if y < 10:\n",
    "        print('x is less than 20 and y is greater than 10')\n",
    "        \n",
    "## logical operation\n",
    "if y == 8 and x == 21:\n",
    "    print('helloworld')"
   ]
  },
  {
   "cell_type": "code",
   "execution_count": 43,
   "metadata": {},
   "outputs": [
    {
     "name": "stdout",
     "output_type": "stream",
     "text": [
      "current person ['john', 'sarah', 'weka', 'deep learning']\n",
      "current person ['john', 'sarah', 'weka', 'deep learning']\n",
      "current person ['john', 'sarah', 'weka', 'deep learning']\n",
      "current person ['john', 'sarah', 'weka', 'deep learning']\n",
      "current person john\n",
      "current person sarah\n",
      "current person weka\n",
      "current person deep learning\n",
      "0\n",
      "1\n",
      "2\n",
      "3\n",
      "4\n",
      "5\n",
      "6\n",
      "7\n",
      "8\n",
      "9\n",
      "20\n"
     ]
    }
   ],
   "source": [
    "##loops \n",
    "people = ['john' , 'sarah', 'weka' , 'deep learning']\n",
    "for person in people:\n",
    "    print('current person',people)\n",
    "\n",
    "for person in range(len(people)):\n",
    "    print('current person',people[person])\n",
    "\n",
    "for i in range(0,10):\n",
    "    print(i)\n",
    "    \n",
    "## while\n",
    "count = 10\n",
    "while count == 10:\n",
    "    print(count + 10)\n",
    "    count = count +1\n",
    "    "
   ]
  },
  {
   "cell_type": "code",
   "execution_count": 46,
   "metadata": {},
   "outputs": [
    {
     "name": "stdout",
     "output_type": "stream",
     "text": [
      "hello\n",
      "hello john\n"
     ]
    }
   ],
   "source": [
    "##function \n",
    "def hello():\n",
    "    print('hello')\n",
    "    \n",
    "hello()\n",
    "\n",
    "def helloname(name):\n",
    "    print('hello', name)\n",
    "    \n",
    "helloname('john')"
   ]
  },
  {
   "cell_type": "code",
   "execution_count": 51,
   "metadata": {},
   "outputs": [
    {
     "name": "stdout",
     "output_type": "stream",
     "text": [
      "value [1, 2, 3, 4]\n"
     ]
    }
   ],
   "source": [
    "## add one value function \n",
    "def addOne(myList):\n",
    "    myList.append(4)\n",
    "    print('value',myList)\n",
    "    return\n",
    "addOne([1,2,3])\n"
   ]
  },
  {
   "cell_type": "code",
   "execution_count": 70,
   "metadata": {},
   "outputs": [
    {
     "name": "stdout",
     "output_type": "stream",
     "text": [
      "helloworld\n"
     ]
    },
    {
     "data": {
      "text/plain": [
       "'helloguys'"
      ]
     },
     "execution_count": 70,
     "metadata": {},
     "output_type": "execute_result"
    }
   ],
   "source": [
    "##string function \n",
    "myStr = 'helloworld'\n",
    "print(myStr)\n",
    "myStr.capitalize()\n",
    "myStr.swapcase()\n",
    "myStr.casefold()\n",
    "myStr.count('e')\n",
    "myStr.center(2)\n",
    "mtStr.endswith('d')\n",
    "myStr.expandtabs()\n",
    "myStr.replace('world', 'guys')"
   ]
  },
  {
   "cell_type": "code",
   "execution_count": 79,
   "metadata": {},
   "outputs": [
    {
     "name": "stdout",
     "output_type": "stream",
     "text": [
      "name:  file.txt\n",
      "Is Closed False\n",
      "Opening mode w\n"
     ]
    }
   ],
   "source": [
    "fo = open('file.txt' , 'w')\n",
    "print('name: ', fo.name)\n",
    "print('Is Closed', fo.closed)\n",
    "print('Opening mode', fo.mode)\n",
    "fo.write('my name is sirmad whats up')\n",
    "fo.write('i am a computer science graduate')\n",
    "fo.close\n",
    "\n",
    "fo = open('file.txt', 'r+')\n",
    "text = fo.read()\n",
    "text\n",
    "fo.close()"
   ]
  },
  {
   "cell_type": "code",
   "execution_count": 89,
   "metadata": {},
   "outputs": [
    {
     "data": {
      "text/plain": [
       "'sirmad'"
      ]
     },
     "execution_count": 89,
     "metadata": {},
     "output_type": "execute_result"
    }
   ],
   "source": [
    "##opp concepts\n",
    "class person:\n",
    "    __name = ''\n",
    "    __email = ''\n",
    "    def __init__(self, name, email):\n",
    "        self.__name= name\n",
    "        self.__email= email\n",
    "        \n",
    "    def set_name(self, name):\n",
    "        self.__name = name\n",
    "        \n",
    "    def get_name(self):\n",
    "        return self.__name\n",
    "    \n",
    "    def set_email(self, email):\n",
    "        self.__email = email\n",
    "        \n",
    "    def get_email(self):\n",
    "        return self.__email\n",
    "    \n",
    "sirmad = person('sirmad', 'sirmad@email.com')\n",
    "#sirmad.set_name('sirmad mahmood hashmi')\n",
    "#sirmad.set_email('sirmad@email.com')\n",
    "\n",
    "sirmad.get_email()\n",
    "sirmad.get_name()\n"
   ]
  },
  {
   "cell_type": "code",
   "execution_count": null,
   "metadata": {},
   "outputs": [],
   "source": []
  }
 ],
 "metadata": {
  "kernelspec": {
   "display_name": "Python 3",
   "language": "python",
   "name": "python3"
  },
  "language_info": {
   "codemirror_mode": {
    "name": "ipython",
    "version": 3
   },
   "file_extension": ".py",
   "mimetype": "text/x-python",
   "name": "python",
   "nbconvert_exporter": "python",
   "pygments_lexer": "ipython3",
   "version": "3.6.5"
  }
 },
 "nbformat": 4,
 "nbformat_minor": 2
}
